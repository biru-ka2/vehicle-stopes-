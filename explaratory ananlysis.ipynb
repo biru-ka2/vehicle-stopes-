{
 "cells": [
  {
   "cell_type": "code",
   "execution_count": 2,
   "id": "c20394d5",
   "metadata": {},
   "outputs": [],
   "source": [
    "import pandas as pd"
   ]
  },
  {
   "cell_type":"code",
   "execution_count": 3,
   "id": "5de4dd5c",
   "metadata": {},
   "outputs": [
    {
     "name": "stderr",
     "output_type": "stream",
     "text": [
      "C:\\Users\\Biruk\\AppData\\Local\\Temp\\ipykernel_3336\\2628692749.py:1: DtypeWarning: Columns (8) have mixed types. Specify dtype option on import or set low_memory=False.\n",
      "  df=pd.read_csv('vehicle_stops.csv')\n"
     ]
    }
   ],
   "source": [
    "df=pd.read_csv('vehicle_stops.csv')"
   ]
  },
  {
   "cell_type": "code",
   "execution_count": 4,
   "id": "64c620da",
   "metadata": {},
   "outputs": [
    {
     "data": {
      "text/html": [
       "<div>\n",
       "<style scoped>\n",
       "    .dataframe tbody tr th:only-of-type {\n",
       "        vertical-align: middle;\n",
       "    }\n",
       "\n",
       "    .dataframe tbody tr th {\n",
       "        vertical-align: top;\n",
       "    }\n",
       "\n",
       "    .dataframe thead th {\n",
       "        text-align: right;\n",
       "    }\n",
       "</style>\n",
       "<table border=\"1\" class=\"dataframe\">\n",
       "  <thead>\n",
       "    <tr style=\"text-align: right;\">\n",
       "      <th></th>\n",
       "      <th>stop_id</th>\n",
       "      <th>stop_cause</th>\n",
       "      <th>service_area</th>\n",
       "      <th>subject_race</th>\n",
       "      <th>subject_sex</th>\n",
       "      <th>subject_age</th>\n",
       "      <th>date_time</th>\n",
       "      <th>sd_resident</th>\n",
       "      <th>arrested</th>\n",
       "      <th>searched</th>\n",
       "      <th>obtained_consent</th>\n",
       "      <th>contraband_found</th>\n",
       "      <th>property_seized</th>\n",
       "      <th>action</th>\n",
       "      <th>search_type</th>\n",
       "      <th>search_basis</th>\n",
       "    </tr>\n",
       "  </thead>\n",
       "  <tbody>\n",
       "    <tr>\n",
       "      <th>0</th>\n",
       "      <td>69583</td>\n",
       "      <td>Equipment Violation</td>\n",
       "      <td>110</td>\n",
       "      <td>H</td>\n",
       "      <td>M</td>\n",
       "      <td>50</td>\n",
       "      <td>17/10/2017 5:14</td>\n",
       "      <td>Y</td>\n",
       "      <td>True</td>\n",
       "      <td>N</td>\n",
       "      <td>NaN</td>\n",
       "      <td>NaN</td>\n",
       "      <td>NaN</td>\n",
       "      <td>Verbal Warning</td>\n",
       "      <td>NaN</td>\n",
       "      <td>NaN</td>\n",
       "    </tr>\n",
       "    <tr>\n",
       "      <th>1</th>\n",
       "      <td>69584</td>\n",
       "      <td>Moving Violation</td>\n",
       "      <td>430</td>\n",
       "      <td>H</td>\n",
       "      <td>M</td>\n",
       "      <td>33</td>\n",
       "      <td>17/10/2017 5:15</td>\n",
       "      <td>Y</td>\n",
       "      <td>True</td>\n",
       "      <td>N</td>\n",
       "      <td>NaN</td>\n",
       "      <td>NaN</td>\n",
       "      <td>NaN</td>\n",
       "      <td>Citation</td>\n",
       "      <td>NaN</td>\n",
       "      <td>NaN</td>\n",
       "    </tr>\n",
       "    <tr>\n",
       "      <th>2</th>\n",
       "      <td>69598</td>\n",
       "      <td>Moving Violation</td>\n",
       "      <td>430</td>\n",
       "      <td>H</td>\n",
       "      <td>M</td>\n",
       "      <td>33</td>\n",
       "      <td>17/10/2017 5:17</td>\n",
       "      <td>Y</td>\n",
       "      <td>True</td>\n",
       "      <td>N</td>\n",
       "      <td>NaN</td>\n",
       "      <td>NaN</td>\n",
       "      <td>NaN</td>\n",
       "      <td>Citation</td>\n",
       "      <td>NaN</td>\n",
       "      <td>NaN</td>\n",
       "    </tr>\n",
       "    <tr>\n",
       "      <th>3</th>\n",
       "      <td>70341</td>\n",
       "      <td>Equipment Violation</td>\n",
       "      <td>110</td>\n",
       "      <td>A</td>\n",
       "      <td>M</td>\n",
       "      <td>25</td>\n",
       "      <td>17/10/2017 7:21</td>\n",
       "      <td>Y</td>\n",
       "      <td>True</td>\n",
       "      <td>N</td>\n",
       "      <td>NaN</td>\n",
       "      <td>NaN</td>\n",
       "      <td>NaN</td>\n",
       "      <td>Field Interview</td>\n",
       "      <td>NaN</td>\n",
       "      <td>NaN</td>\n",
       "    </tr>\n",
       "    <tr>\n",
       "      <th>4</th>\n",
       "      <td>70365</td>\n",
       "      <td>Radio Call</td>\n",
       "      <td>620</td>\n",
       "      <td>O</td>\n",
       "      <td>U</td>\n",
       "      <td>18</td>\n",
       "      <td>17/10/2017 7:21</td>\n",
       "      <td>N</td>\n",
       "      <td>True</td>\n",
       "      <td>N</td>\n",
       "      <td>NaN</td>\n",
       "      <td>NaN</td>\n",
       "      <td>NaN</td>\n",
       "      <td>test</td>\n",
       "      <td>NaN</td>\n",
       "      <td>NaN</td>\n",
       "    </tr>\n",
       "  </tbody>\n",
       "</table>\n",
       "</div>"
      ],
      "text/plain": [
       "   stop_id           stop_cause service_area subject_race subject_sex  \\\n",
       "0    69583  Equipment Violation          110            H           M   \n",
       "1    69584     Moving Violation          430            H           M   \n",
       "2    69598     Moving Violation          430            H           M   \n",
       "3    70341  Equipment Violation          110            A           M   \n",
       "4    70365           Radio Call          620            O           U   \n",
       "\n",
       "   subject_age        date_time sd_resident arrested searched  \\\n",
       "0           50  17/10/2017 5:14           Y     True        N   \n",
       "1           33  17/10/2017 5:15           Y     True        N   \n",
       "2           33  17/10/2017 5:17           Y     True        N   \n",
       "3           25  17/10/2017 7:21           Y     True        N   \n",
       "4           18  17/10/2017 7:21           N     True        N   \n",
       "\n",
       "  obtained_consent contraband_found property_seized           action  \\\n",
       "0              NaN              NaN             NaN   Verbal Warning   \n",
       "1              NaN              NaN             NaN         Citation   \n",
       "2              NaN              NaN             NaN         Citation   \n",
       "3              NaN              NaN             NaN  Field Interview   \n",
       "4              NaN              NaN             NaN             test   \n",
       "\n",
       "  search_type search_basis  \n",
       "0         NaN          NaN  \n",
       "1         NaN          NaN  \n",
       "2         NaN          NaN  \n",
       "3         NaN          NaN  \n",
       "4         NaN          NaN  "
      ]
     },
     "execution_count": 4,
     "metadata": {},
     "output_type": "execute_result"
    }
   ],
   "source": [
    "df.head(5)"
   ]
  },
  {
   "cell_type": "code",
   "execution_count": 4,
   "id": "030a3e2b",
   "metadata": {},
   "outputs": [
    {
     "data": {
      "text/html": [
       "<div>\n",
       "<style scoped>\n",
       "    .dataframe tbody tr th:only-of-type {\n",
       "        vertical-align: middle;\n",
       "    }\n",
       "\n",
       "    .dataframe tbody tr th {\n",
       "        vertical-align: top;\n",
       "    }\n",
       "\n",
       "    .dataframe thead th {\n",
       "        text-align: right;\n",
       "    }\n",
       "</style>\n",
       "<table border=\"1\" class=\"dataframe\">\n",
       "  <thead>\n",
       "    <tr style=\"text-align: right;\">\n",
       "      <th></th>\n",
       "      <th>stop_id</th>\n",
       "      <th>stop_cause</th>\n",
       "      <th>service_area</th>\n",
       "      <th>subject_race</th>\n",
       "      <th>subject_sex</th>\n",
       "      <th>subject_age</th>\n",
       "      <th>date_time</th>\n",
       "      <th>sd_resident</th>\n",
       "      <th>arrested</th>\n",
       "      <th>searched</th>\n",
       "      <th>obtained_consent</th>\n",
       "      <th>contraband_found</th>\n",
       "      <th>property_seized</th>\n",
       "      <th>action</th>\n",
       "      <th>search_type</th>\n",
       "      <th>search_basis</th>\n",
       "    </tr>\n",
       "  </thead>\n",
       "  <tbody>\n",
       "    <tr>\n",
       "      <th>34328</th>\n",
       "      <td>5011798</td>\n",
       "      <td>Moving Violation</td>\n",
       "      <td>710</td>\n",
       "      <td>B</td>\n",
       "      <td>F</td>\n",
       "      <td>66</td>\n",
       "      <td>26/06/2018 12:45</td>\n",
       "      <td>N</td>\n",
       "      <td>False</td>\n",
       "      <td>N</td>\n",
       "      <td>NaN</td>\n",
       "      <td>NaN</td>\n",
       "      <td>NaN</td>\n",
       "      <td>Verbal Warning</td>\n",
       "      <td>NaN</td>\n",
       "      <td>NaN</td>\n",
       "    </tr>\n",
       "    <tr>\n",
       "      <th>34329</th>\n",
       "      <td>5011817</td>\n",
       "      <td>Moving Violation</td>\n",
       "      <td>930</td>\n",
       "      <td>W</td>\n",
       "      <td>F</td>\n",
       "      <td>72</td>\n",
       "      <td>26/06/2018 12:46</td>\n",
       "      <td>N</td>\n",
       "      <td>False</td>\n",
       "      <td>N</td>\n",
       "      <td>NaN</td>\n",
       "      <td>NaN</td>\n",
       "      <td>NaN</td>\n",
       "      <td>Citation</td>\n",
       "      <td>NaN</td>\n",
       "      <td>NaN</td>\n",
       "    </tr>\n",
       "    <tr>\n",
       "      <th>34330</th>\n",
       "      <td>5012236</td>\n",
       "      <td>Moving Violation</td>\n",
       "      <td>930</td>\n",
       "      <td>H</td>\n",
       "      <td>M</td>\n",
       "      <td>42</td>\n",
       "      <td>26/06/2018 13:10</td>\n",
       "      <td>N</td>\n",
       "      <td>False</td>\n",
       "      <td>N</td>\n",
       "      <td>NaN</td>\n",
       "      <td>NaN</td>\n",
       "      <td>NaN</td>\n",
       "      <td>Citation</td>\n",
       "      <td>NaN</td>\n",
       "      <td>NaN</td>\n",
       "    </tr>\n",
       "    <tr>\n",
       "      <th>34331</th>\n",
       "      <td>5016885</td>\n",
       "      <td>Equipment Violation</td>\n",
       "      <td>820</td>\n",
       "      <td>A</td>\n",
       "      <td>M</td>\n",
       "      <td>19</td>\n",
       "      <td>26/06/2018 17:43</td>\n",
       "      <td>Y</td>\n",
       "      <td>False</td>\n",
       "      <td>N</td>\n",
       "      <td>NaN</td>\n",
       "      <td>NaN</td>\n",
       "      <td>NaN</td>\n",
       "      <td>Verbal Warning, Driver not registered owner. n...</td>\n",
       "      <td>NaN</td>\n",
       "      <td>NaN</td>\n",
       "    </tr>\n",
       "    <tr>\n",
       "      <th>34332</th>\n",
       "      <td>5017953</td>\n",
       "      <td>Equipment Violation</td>\n",
       "      <td>110</td>\n",
       "      <td>W</td>\n",
       "      <td>F</td>\n",
       "      <td>34</td>\n",
       "      <td>26/06/2018 19:01</td>\n",
       "      <td>Y</td>\n",
       "      <td>False</td>\n",
       "      <td>N</td>\n",
       "      <td>NaN</td>\n",
       "      <td>NaN</td>\n",
       "      <td>NaN</td>\n",
       "      <td>Citation</td>\n",
       "      <td>NaN</td>\n",
       "      <td>NaN</td>\n",
       "    </tr>\n",
       "  </tbody>\n",
       "</table>\n",
       "</div>"
      ],
      "text/plain": [
       "       stop_id           stop_cause service_area subject_race subject_sex  \\\n",
       "34328  5011798     Moving Violation          710            B           F   \n",
       "34329  5011817     Moving Violation          930            W           F   \n",
       "34330  5012236     Moving Violation          930            H           M   \n",
       "34331  5016885  Equipment Violation          820            A           M   \n",
       "34332  5017953  Equipment Violation          110            W           F   \n",
       "\n",
       "       subject_age         date_time sd_resident arrested searched  \\\n",
       "34328           66  26/06/2018 12:45           N    False        N   \n",
       "34329           72  26/06/2018 12:46           N    False        N   \n",
       "34330           42  26/06/2018 13:10           N    False        N   \n",
       "34331           19  26/06/2018 17:43           Y    False        N   \n",
       "34332           34  26/06/2018 19:01           Y    False        N   \n",
       "\n",
       "      obtained_consent contraband_found property_seized  \\\n",
       "34328              NaN              NaN             NaN   \n",
       "34329              NaN              NaN             NaN   \n",
       "34330              NaN              NaN             NaN   \n",
       "34331              NaN              NaN             NaN   \n",
       "34332              NaN              NaN             NaN   \n",
       "\n",
       "                                                  action search_type  \\\n",
       "34328                                     Verbal Warning         NaN   \n",
       "34329                                           Citation         NaN   \n",
       "34330                                           Citation         NaN   \n",
       "34331  Verbal Warning, Driver not registered owner. n...         NaN   \n",
       "34332                                           Citation         NaN   \n",
       "\n",
       "      search_basis  \n",
       "34328          NaN  \n",
       "34329          NaN  \n",
       "34330          NaN  \n",
       "34331          NaN  \n",
       "34332          NaN  "
      ]
     },
     "execution_count": 4,
     "metadata": {},
     "output_type": "execute_result"
    }
   ],
   "source": [
    "df.tail()"
   ]
  },
  {
   "cell_type": "code",
   "execution_count": 5,
   "id": "b525e116",
   "metadata": {},
   "outputs": [
    {
     "name": "stdout",
     "output_type": "stream",
     "text": [
      "<class 'pandas.core.frame.DataFrame'>\n",
      "RangeIndex: 34333 entries, 0 to 34332\n",
      "Data columns (total 16 columns):\n",
      " #   Column            Non-Null Count  Dtype \n",
      "---  ------            --------------  ----- \n",
      " 0   stop_id           34333 non-null  int64 \n",
      " 1   stop_cause        34326 non-null  object\n",
      " 2   service_area      34333 non-null  object\n",
      " 3   subject_race      34326 non-null  object\n",
      " 4   subject_sex       34326 non-null  object\n",
      " 5   subject_age       34333 non-null  int64 \n",
      " 6   date_time         34333 non-null  object\n",
      " 7   sd_resident       34326 non-null  object\n",
      " 8   arrested          34329 non-null  object\n",
      " 9   searched          34326 non-null  object\n",
      " 10  obtained_consent  3577 non-null   object\n",
      " 11  contraband_found  3574 non-null   object\n",
      " 12  property_seized   3575 non-null   object\n",
      " 13  action            34316 non-null  object\n",
      " 14  search_type       3165 non-null   object\n",
      " 15  search_basis      3059 non-null   object\n",
      "dtypes: int64(2), object(14)\n",
      "memory usage: 4.2+ MB\n"
     ]
    }
   ],
   "source": [
    "df.info()"
   ]
  },
  {
   "cell_type": "code",
   "execution_count": 6,
   "id": "80ecff8a",
   "metadata": {},
   "outputs": [
    {
     "data": {
      "text/html": [
       "<div>\n",
       "<style scoped>\n",
       "    .dataframe tbody tr th:only-of-type {\n",
       "        vertical-align: middle;\n",
       "    }\n",
       "\n",
       "    .dataframe tbody tr th {\n",
       "        vertical-align: top;\n",
       "    }\n",
       "\n",
       "    .dataframe thead th {\n",
       "        text-align: right;\n",
       "    }\n",
       "</style>\n",
       "<table border=\"1\" class=\"dataframe\">\n",
       "  <thead>\n",
       "    <tr style=\"text-align: right;\">\n",
       "      <th></th>\n",
       "      <th>stop_id</th>\n",
       "      <th>subject_age</th>\n",
       "    </tr>\n",
       "  </thead>\n",
       "  <tbody>\n",
       "    <tr>\n",
       "      <th>count</th>\n",
       "      <td>3.433300e+04</td>\n",
       "      <td>34333.000000</td>\n",
       "    </tr>\n",
       "    <tr>\n",
       "      <th>mean</th>\n",
       "      <td>2.429007e+06</td>\n",
       "      <td>36.386101</td>\n",
       "    </tr>\n",
       "    <tr>\n",
       "      <th>std</th>\n",
       "      <td>1.420836e+06</td>\n",
       "      <td>14.298176</td>\n",
       "    </tr>\n",
       "    <tr>\n",
       "      <th>min</th>\n",
       "      <td>6.958300e+04</td>\n",
       "      <td>0.000000</td>\n",
       "    </tr>\n",
       "    <tr>\n",
       "      <th>25%</th>\n",
       "      <td>1.169190e+06</td>\n",
       "      <td>25.000000</td>\n",
       "    </tr>\n",
       "    <tr>\n",
       "      <th>50%</th>\n",
       "      <td>2.369251e+06</td>\n",
       "      <td>33.000000</td>\n",
       "    </tr>\n",
       "    <tr>\n",
       "      <th>75%</th>\n",
       "      <td>3.614863e+06</td>\n",
       "      <td>46.000000</td>\n",
       "    </tr>\n",
       "    <tr>\n",
       "      <th>max</th>\n",
       "      <td>5.017953e+06</td>\n",
       "      <td>150.000000</td>\n",
       "    </tr>\n",
       "  </tbody>\n",
       "</table>\n",
       "</div>"
      ],
      "text/plain": [
       "            stop_id   subject_age\n",
       "count  3.433300e+04  34333.000000\n",
       "mean   2.429007e+06     36.386101\n",
       "std    1.420836e+06     14.298176\n",
       "min    6.958300e+04      0.000000\n",
       "25%    1.169190e+06     25.000000\n",
       "50%    2.369251e+06     33.000000\n",
       "75%    3.614863e+06     46.000000\n",
       "max    5.017953e+06    150.000000"
      ]
     },
     "execution_count": 6,
     "metadata": {},
     "output_type": "execute_result"
    }
   ],
   "source": [
    "df.describe()"
   ]
  },
  {
   "cell_type": "code",
   "execution_count": 7,
   "id": "81ff010d",
   "metadata": {
    "scrolled": true
   },
   "outputs": [
    {
     "data": {
      "text/plain": [
       "(34333, 16)"
      ]
     },
     "execution_count": 7,
     "metadata": {},
     "output_type": "execute_result"
    }
   ],
   "source": [
    "# show you the shape of the dataset.\n",
    "df.shape"
   ]
  },
  {
   "cell_type": "code",
   "execution_count": 8,
   "id": "813213b2",
   "metadata": {},
   "outputs": [
    {
     "data": {
      "text/plain": [
       "stop_id              int64\n",
       "stop_cause          object\n",
       "service_area        object\n",
       "subject_race        object\n",
       "subject_sex         object\n",
       "subject_age          int64\n",
       "date_time           object\n",
       "sd_resident         object\n",
       "arrested            object\n",
       "searched            object\n",
       "obtained_consent    object\n",
       "contraband_found    object\n",
       "property_seized     object\n",
       "action              object\n",
       "search_type         object\n",
       "search_basis        object\n",
       "dtype: object"
      ]
     },
     "execution_count": 8,
     "metadata": {},
     "output_type": "execute_result"
    }
   ],
   "source": [
    "#look at the data type of the columns in the dataset.\n",
    "df.dtypes"
   ]
  },
  {
   "cell_type": "code",
   "execution_count": 9,
   "id": "e67f35f4",
   "metadata": {},
   "outputs": [
    {
     "data": {
      "text/plain": [
       "stop_id                 0\n",
       "stop_cause              7\n",
       "service_area            0\n",
       "subject_race            7\n",
       "subject_sex             7\n",
       "subject_age             0\n",
       "date_time               0\n",
       "sd_resident             7\n",
       "arrested                4\n",
       "searched                7\n",
       "obtained_consent    30756\n",
       "contraband_found    30759\n",
       "property_seized     30758\n",
       "action                 17\n",
       "search_type         31168\n",
       "search_basis        31274\n",
       "dtype: int64"
      ]
     },
     "execution_count": 9,
     "metadata": {},
     "output_type": "execute_result"
    }
   ],
   "source": [
    "#otal number of missing data in each column.\n",
    "df.isnull().sum()"
   ]
  },
  {
   "cell_type": "code",
   "execution_count": 10,
   "id": "560323a1",
   "metadata": {},
   "outputs": [
    {
     "data": {
      "text/plain": [
       "0         17/10/2017 5:14\n",
       "1         17/10/2017 5:15\n",
       "2         17/10/2017 5:17\n",
       "3         17/10/2017 7:21\n",
       "4         17/10/2017 7:21\n",
       "               ...       \n",
       "34328    26/06/2018 12:45\n",
       "34329    26/06/2018 12:46\n",
       "34330    26/06/2018 13:10\n",
       "34331    26/06/2018 17:43\n",
       "34332    26/06/2018 19:01\n",
       "Name: date_time, Length: 34333, dtype: object"
      ]
     },
     "execution_count": 10,
     "metadata": {},
     "output_type": "execute_result"
    }
   ],
   "source": [
    "#selected columns\n",
    "df.date_time"
   ]
  },
  {
   "cell_type": "code",
   "execution_count": 11,
   "id": "0cb9f48b",
   "metadata": {
    "scrolled": true
   },
   "outputs": [
    {
     "data": {
      "text/plain": [
       "0    17/10/2017 5:14\n",
       "1    17/10/2017 5:15\n",
       "2    17/10/2017 5:17\n",
       "3    17/10/2017 7:21\n",
       "4    17/10/2017 7:21\n",
       "Name: date_time, dtype: object"
      ]
     },
     "execution_count": 11,
     "metadata": {},
     "output_type": "execute_result"
    }
   ],
   "source": [
    "df.date_time.head(5)"
   ]
  },
  {
   "cell_type": "code",
   "execution_count": 12,
   "id": "16f891cb",
   "metadata": {},
   "outputs": [
    {
     "data": {
      "text/plain": [
       "Index(['stop_id', 'stop_cause', 'service_area', 'subject_race', 'subject_sex',\n",
       "       'subject_age', 'date_time', 'sd_resident', 'arrested', 'searched',\n",
       "       'obtained_consent', 'contraband_found', 'property_seized', 'action',\n",
       "       'search_type', 'search_basis'],\n",
       "      dtype='object')"
      ]
     },
     "execution_count": 12,
     "metadata": {},
     "output_type": "execute_result"
    }
   ],
   "source": [
    "#see the availabel columns\n",
    "df.columns"
   ]
  },
  {
   "cell_type": "code",
   "execution_count": 13,
   "id": "6580c462",
   "metadata": {},
   "outputs": [
    {
     "data": {
      "text/plain": [
       "0         17/10/2017 5:14\n",
       "1         17/10/2017 5:15\n",
       "2         17/10/2017 5:17\n",
       "3         17/10/2017 7:21\n",
       "4         17/10/2017 7:21\n",
       "               ...       \n",
       "34328    26/06/2018 12:45\n",
       "34329    26/06/2018 12:46\n",
       "34330    26/06/2018 13:10\n",
       "34331    26/06/2018 17:43\n",
       "34332    26/06/2018 19:01\n",
       "Name: date_time, Length: 34333, dtype: object"
      ]
     },
     "execution_count": 13,
     "metadata": {},
     "output_type": "execute_result"
    }
   ],
   "source": [
    "#You can select a single column in the dataset\n",
    "df['date_time']"
   ]
  },
  {
   "cell_type": "code",
   "execution_count": 14,
   "id": "a04abb54",
   "metadata": {},
   "outputs": [
    {
     "data": {
      "text/html": [
       "<div>\n",
       "<style scoped>\n",
       "    .dataframe tbody tr th:only-of-type {\n",
       "        vertical-align: middle;\n",
       "    }\n",
       "\n",
       "    .dataframe tbody tr th {\n",
       "        vertical-align: top;\n",
       "    }\n",
       "\n",
       "    .dataframe thead th {\n",
       "        text-align: right;\n",
       "    }\n",
       "</style>\n",
       "<table border=\"1\" class=\"dataframe\">\n",
       "  <thead>\n",
       "    <tr style=\"text-align: right;\">\n",
       "      <th></th>\n",
       "      <th>stop_id</th>\n",
       "      <th>date_time</th>\n",
       "    </tr>\n",
       "  </thead>\n",
       "  <tbody>\n",
       "    <tr>\n",
       "      <th>0</th>\n",
       "      <td>69583</td>\n",
       "      <td>17/10/2017 5:14</td>\n",
       "    </tr>\n",
       "    <tr>\n",
       "      <th>1</th>\n",
       "      <td>69584</td>\n",
       "      <td>17/10/2017 5:15</td>\n",
       "    </tr>\n",
       "    <tr>\n",
       "      <th>2</th>\n",
       "      <td>69598</td>\n",
       "      <td>17/10/2017 5:17</td>\n",
       "    </tr>\n",
       "    <tr>\n",
       "      <th>3</th>\n",
       "      <td>70341</td>\n",
       "      <td>17/10/2017 7:21</td>\n",
       "    </tr>\n",
       "    <tr>\n",
       "      <th>4</th>\n",
       "      <td>70365</td>\n",
       "      <td>17/10/2017 7:21</td>\n",
       "    </tr>\n",
       "  </tbody>\n",
       "</table>\n",
       "</div>"
      ],
      "text/plain": [
       "   stop_id        date_time\n",
       "0    69583  17/10/2017 5:14\n",
       "1    69584  17/10/2017 5:15\n",
       "2    69598  17/10/2017 5:17\n",
       "3    70341  17/10/2017 7:21\n",
       "4    70365  17/10/2017 7:21"
      ]
     },
     "execution_count": 14,
     "metadata": {},
     "output_type": "execute_result"
    }
   ],
   "source": [
    "#You can select multiple column in the dataset\n",
    "df[['stop_id','date_time']].head()"
   ]
  },
  {
   "cell_type": "code",
   "execution_count": 15,
   "id": "6525de4d",
   "metadata": {},
   "outputs": [],
   "source": [
    "#Rename a column\n",
    "df.rename(columns={'stop_id':'ID',\n",
    "                        'DateTume':'DateTime'},inplace=True )"
   ]
  },
  {
   "cell_type": "code",
   "execution_count": 16,
   "id": "8683f91d",
   "metadata": {
    "scrolled": true
   },
   "outputs": [
    {
     "data": {
      "text/html": [
       "<div>\n",
       "<style scoped>\n",
       "    .dataframe tbody tr th:only-of-type {\n",
       "        vertical-align: middle;\n",
       "    }\n",
       "\n",
       "    .dataframe tbody tr th {\n",
       "        vertical-align: top;\n",
       "    }\n",
       "\n",
       "    .dataframe thead th {\n",
       "        text-align: right;\n",
       "    }\n",
       "</style>\n",
       "<table border=\"1\" class=\"dataframe\">\n",
       "  <thead>\n",
       "    <tr style=\"text-align: right;\">\n",
       "      <th></th>\n",
       "      <th>ID</th>\n",
       "      <th>stop_cause</th>\n",
       "      <th>service_area</th>\n",
       "      <th>subject_race</th>\n",
       "      <th>subject_sex</th>\n",
       "      <th>subject_age</th>\n",
       "      <th>date_time</th>\n",
       "      <th>sd_resident</th>\n",
       "      <th>arrested</th>\n",
       "      <th>searched</th>\n",
       "      <th>obtained_consent</th>\n",
       "      <th>contraband_found</th>\n",
       "      <th>property_seized</th>\n",
       "      <th>action</th>\n",
       "      <th>search_type</th>\n",
       "      <th>search_basis</th>\n",
       "    </tr>\n",
       "  </thead>\n",
       "  <tbody>\n",
       "    <tr>\n",
       "      <th>0</th>\n",
       "      <td>69583</td>\n",
       "      <td>Equipment Violation</td>\n",
       "      <td>110</td>\n",
       "      <td>H</td>\n",
       "      <td>M</td>\n",
       "      <td>50</td>\n",
       "      <td>17/10/2017 5:14</td>\n",
       "      <td>Y</td>\n",
       "      <td>True</td>\n",
       "      <td>N</td>\n",
       "      <td>NaN</td>\n",
       "      <td>NaN</td>\n",
       "      <td>NaN</td>\n",
       "      <td>Verbal Warning</td>\n",
       "      <td>NaN</td>\n",
       "      <td>NaN</td>\n",
       "    </tr>\n",
       "    <tr>\n",
       "      <th>1</th>\n",
       "      <td>69584</td>\n",
       "      <td>Moving Violation</td>\n",
       "      <td>430</td>\n",
       "      <td>H</td>\n",
       "      <td>M</td>\n",
       "      <td>33</td>\n",
       "      <td>17/10/2017 5:15</td>\n",
       "      <td>Y</td>\n",
       "      <td>True</td>\n",
       "      <td>N</td>\n",
       "      <td>NaN</td>\n",
       "      <td>NaN</td>\n",
       "      <td>NaN</td>\n",
       "      <td>Citation</td>\n",
       "      <td>NaN</td>\n",
       "      <td>NaN</td>\n",
       "    </tr>\n",
       "    <tr>\n",
       "      <th>2</th>\n",
       "      <td>69598</td>\n",
       "      <td>Moving Violation</td>\n",
       "      <td>430</td>\n",
       "      <td>H</td>\n",
       "      <td>M</td>\n",
       "      <td>33</td>\n",
       "      <td>17/10/2017 5:17</td>\n",
       "      <td>Y</td>\n",
       "      <td>True</td>\n",
       "      <td>N</td>\n",
       "      <td>NaN</td>\n",
       "      <td>NaN</td>\n",
       "      <td>NaN</td>\n",
       "      <td>Citation</td>\n",
       "      <td>NaN</td>\n",
       "      <td>NaN</td>\n",
       "    </tr>\n",
       "    <tr>\n",
       "      <th>3</th>\n",
       "      <td>70341</td>\n",
       "      <td>Equipment Violation</td>\n",
       "      <td>110</td>\n",
       "      <td>A</td>\n",
       "      <td>M</td>\n",
       "      <td>25</td>\n",
       "      <td>17/10/2017 7:21</td>\n",
       "      <td>Y</td>\n",
       "      <td>True</td>\n",
       "      <td>N</td>\n",
       "      <td>NaN</td>\n",
       "      <td>NaN</td>\n",
       "      <td>NaN</td>\n",
       "      <td>Field Interview</td>\n",
       "      <td>NaN</td>\n",
       "      <td>NaN</td>\n",
       "    </tr>\n",
       "    <tr>\n",
       "      <th>4</th>\n",
       "      <td>70365</td>\n",
       "      <td>Radio Call</td>\n",
       "      <td>620</td>\n",
       "      <td>O</td>\n",
       "      <td>U</td>\n",
       "      <td>18</td>\n",
       "      <td>17/10/2017 7:21</td>\n",
       "      <td>N</td>\n",
       "      <td>True</td>\n",
       "      <td>N</td>\n",
       "      <td>NaN</td>\n",
       "      <td>NaN</td>\n",
       "      <td>NaN</td>\n",
       "      <td>test</td>\n",
       "      <td>NaN</td>\n",
       "      <td>NaN</td>\n",
       "    </tr>\n",
       "  </tbody>\n",
       "</table>\n",
       "</div>"
      ],
      "text/plain": [
       "      ID           stop_cause service_area subject_race subject_sex  \\\n",
       "0  69583  Equipment Violation          110            H           M   \n",
       "1  69584     Moving Violation          430            H           M   \n",
       "2  69598     Moving Violation          430            H           M   \n",
       "3  70341  Equipment Violation          110            A           M   \n",
       "4  70365           Radio Call          620            O           U   \n",
       "\n",
       "   subject_age        date_time sd_resident arrested searched  \\\n",
       "0           50  17/10/2017 5:14           Y     True        N   \n",
       "1           33  17/10/2017 5:15           Y     True        N   \n",
       "2           33  17/10/2017 5:17           Y     True        N   \n",
       "3           25  17/10/2017 7:21           Y     True        N   \n",
       "4           18  17/10/2017 7:21           N     True        N   \n",
       "\n",
       "  obtained_consent contraband_found property_seized           action  \\\n",
       "0              NaN              NaN             NaN   Verbal Warning   \n",
       "1              NaN              NaN             NaN         Citation   \n",
       "2              NaN              NaN             NaN         Citation   \n",
       "3              NaN              NaN             NaN  Field Interview   \n",
       "4              NaN              NaN             NaN             test   \n",
       "\n",
       "  search_type search_basis  \n",
       "0         NaN          NaN  \n",
       "1         NaN          NaN  \n",
       "2         NaN          NaN  \n",
       "3         NaN          NaN  \n",
       "4         NaN          NaN  "
      ]
     },
     "execution_count": 16,
     "metadata": {},
     "output_type": "execute_result"
    }
   ],
   "source": [
    "df.head(5)"
   ]
  },
  {
   "cell_type": "code",
   "execution_count": 17,
   "id": "d8e308d9",
   "metadata": {},
   "outputs": [
    {
     "data": {
      "text/plain": [
       "ID                                69583\n",
       "stop_cause          Equipment Violation\n",
       "service_area                        110\n",
       "subject_race                          H\n",
       "subject_sex                           M\n",
       "subject_age                          50\n",
       "date_time               17/10/2017 5:14\n",
       "sd_resident                           Y\n",
       "arrested                           True\n",
       "searched                              N\n",
       "obtained_consent                    NaN\n",
       "contraband_found                    NaN\n",
       "property_seized                     NaN\n",
       "action                   Verbal Warning\n",
       "search_type                         NaN\n",
       "search_basis                        NaN\n",
       "Name: 0, dtype: object"
      ]
     },
     "execution_count": 17,
     "metadata": {},
     "output_type": "execute_result"
    }
   ],
   "source": [
    "#Select the rows\n",
    "df.iloc[0]"
   ]
  },
  {
   "cell_type": "code",
   "execution_count": 18,
   "id": "0fb88e1e",
   "metadata": {},
   "outputs": [
    {
     "data": {
      "text/plain": [
       "stop_cause      Equipment Violation\n",
       "subject_race                      H\n",
       "subject_age                      50\n",
       "Name: 0, dtype: object"
      ]
     },
     "execution_count": 18,
     "metadata": {},
     "output_type": "execute_result"
    }
   ],
   "source": [
    "#You can select more than one column.\n",
    "df.iloc[0,[1,3,5]]"
   ]
  },
  {
   "cell_type": "code",
   "execution_count": 19,
   "id": "277a6a3a",
   "metadata": {},
   "outputs": [
    {
     "data": {
      "text/html": [
       "<div>\n",
       "<style scoped>\n",
       "    .dataframe tbody tr th:only-of-type {\n",
       "        vertical-align: middle;\n",
       "    }\n",
       "\n",
       "    .dataframe tbody tr th {\n",
       "        vertical-align: top;\n",
       "    }\n",
       "\n",
       "    .dataframe thead th {\n",
       "        text-align: right;\n",
       "    }\n",
       "</style>\n",
       "<table border=\"1\" class=\"dataframe\">\n",
       "  <thead>\n",
       "    <tr style=\"text-align: right;\">\n",
       "      <th></th>\n",
       "      <th>stop_cause</th>\n",
       "      <th>subject_sex</th>\n",
       "      <th>subject_age</th>\n",
       "    </tr>\n",
       "  </thead>\n",
       "  <tbody>\n",
       "    <tr>\n",
       "      <th>0</th>\n",
       "      <td>Equipment Violation</td>\n",
       "      <td>M</td>\n",
       "      <td>50</td>\n",
       "    </tr>\n",
       "    <tr>\n",
       "      <th>1</th>\n",
       "      <td>Moving Violation</td>\n",
       "      <td>M</td>\n",
       "      <td>33</td>\n",
       "    </tr>\n",
       "    <tr>\n",
       "      <th>2</th>\n",
       "      <td>Moving Violation</td>\n",
       "      <td>M</td>\n",
       "      <td>33</td>\n",
       "    </tr>\n",
       "    <tr>\n",
       "      <th>3</th>\n",
       "      <td>Equipment Violation</td>\n",
       "      <td>M</td>\n",
       "      <td>25</td>\n",
       "    </tr>\n",
       "    <tr>\n",
       "      <th>4</th>\n",
       "      <td>Radio Call</td>\n",
       "      <td>U</td>\n",
       "      <td>18</td>\n",
       "    </tr>\n",
       "  </tbody>\n",
       "</table>\n",
       "</div>"
      ],
      "text/plain": [
       "            stop_cause subject_sex  subject_age\n",
       "0  Equipment Violation           M           50\n",
       "1     Moving Violation           M           33\n",
       "2     Moving Violation           M           33\n",
       "3  Equipment Violation           M           25\n",
       "4           Radio Call           U           18"
      ]
     },
     "execution_count": 19,
     "metadata": {},
     "output_type": "execute_result"
    }
   ],
   "source": [
    "#You can slice the rows.\n",
    "df.iloc[0:5,[1,4,5]]"
   ]
  },
  {
   "cell_type": "code",
   "execution_count": 20,
   "id": "2b3f1a58",
   "metadata": {},
   "outputs": [
    {
     "data": {
      "text/html": [
       "<div>\n",
       "<style scoped>\n",
       "    .dataframe tbody tr th:only-of-type {\n",
       "        vertical-align: middle;\n",
       "    }\n",
       "\n",
       "    .dataframe tbody tr th {\n",
       "        vertical-align: top;\n",
       "    }\n",
       "\n",
       "    .dataframe thead th {\n",
       "        text-align: right;\n",
       "    }\n",
       "</style>\n",
       "<table border=\"1\" class=\"dataframe\">\n",
       "  <thead>\n",
       "    <tr style=\"text-align: right;\">\n",
       "      <th></th>\n",
       "      <th>ID</th>\n",
       "      <th>stop_cause</th>\n",
       "      <th>service_area</th>\n",
       "      <th>subject_race</th>\n",
       "      <th>subject_sex</th>\n",
       "    </tr>\n",
       "  </thead>\n",
       "  <tbody>\n",
       "    <tr>\n",
       "      <th>0</th>\n",
       "      <td>69583</td>\n",
       "      <td>Equipment Violation</td>\n",
       "      <td>110</td>\n",
       "      <td>H</td>\n",
       "      <td>M</td>\n",
       "    </tr>\n",
       "    <tr>\n",
       "      <th>1</th>\n",
       "      <td>69584</td>\n",
       "      <td>Moving Violation</td>\n",
       "      <td>430</td>\n",
       "      <td>H</td>\n",
       "      <td>M</td>\n",
       "    </tr>\n",
       "    <tr>\n",
       "      <th>2</th>\n",
       "      <td>69598</td>\n",
       "      <td>Moving Violation</td>\n",
       "      <td>430</td>\n",
       "      <td>H</td>\n",
       "      <td>M</td>\n",
       "    </tr>\n",
       "    <tr>\n",
       "      <th>3</th>\n",
       "      <td>70341</td>\n",
       "      <td>Equipment Violation</td>\n",
       "      <td>110</td>\n",
       "      <td>A</td>\n",
       "      <td>M</td>\n",
       "    </tr>\n",
       "    <tr>\n",
       "      <th>4</th>\n",
       "      <td>70365</td>\n",
       "      <td>Radio Call</td>\n",
       "      <td>620</td>\n",
       "      <td>O</td>\n",
       "      <td>U</td>\n",
       "    </tr>\n",
       "  </tbody>\n",
       "</table>\n",
       "</div>"
      ],
      "text/plain": [
       "      ID           stop_cause service_area subject_race subject_sex\n",
       "0  69583  Equipment Violation          110            H           M\n",
       "1  69584     Moving Violation          430            H           M\n",
       "2  69598     Moving Violation          430            H           M\n",
       "3  70341  Equipment Violation          110            A           M\n",
       "4  70365           Radio Call          620            O           U"
      ]
     },
     "execution_count": 20,
     "metadata": {},
     "output_type": "execute_result"
    }
   ],
   "source": [
    "#You can slice both rows and columns.\n",
    "df.iloc[0:5,0:5]"
   ]
  },
  {
   "cell_type": "code",
   "execution_count": 21,
   "id": "2353c86f",
   "metadata": {},
   "outputs": [
    {
     "data": {
      "text/plain": [
       "stop_cause\n",
       "Moving Violation       19863\n",
       "Equipment Violation    12935\n",
       "Code Violation           916\n",
       "Radio Call               335\n",
       "Suspect Info             254\n",
       "PK/Informant              23\n",
       "Name: count, dtype: int64"
      ]
     },
     "execution_count": 21,
     "metadata": {},
     "output_type": "execute_result"
    }
   ],
   "source": [
    "#Simple Analysis with Pandas\n",
    "df.stop_cause.value_counts()"
   ]
  },
  {
   "cell_type": "code",
   "execution_count": 22,
   "id": "a6b8656f",
   "metadata": {
    "scrolled": true
   },
   "outputs": [
    {
     "data": {
      "text/html": [
       "<div>\n",
       "<style scoped>\n",
       "    .dataframe tbody tr th:only-of-type {\n",
       "        vertical-align: middle;\n",
       "    }\n",
       "\n",
       "    .dataframe tbody tr th {\n",
       "        vertical-align: top;\n",
       "    }\n",
       "\n",
       "    .dataframe thead th {\n",
       "        text-align: right;\n",
       "    }\n",
       "</style>\n",
       "<table border=\"1\" class=\"dataframe\">\n",
       "  <thead>\n",
       "    <tr style=\"text-align: right;\">\n",
       "      <th></th>\n",
       "      <th>ID</th>\n",
       "      <th>stop_cause</th>\n",
       "      <th>service_area</th>\n",
       "      <th>subject_race</th>\n",
       "      <th>subject_sex</th>\n",
       "      <th>subject_age</th>\n",
       "      <th>date_time</th>\n",
       "      <th>sd_resident</th>\n",
       "      <th>arrested</th>\n",
       "      <th>searched</th>\n",
       "      <th>obtained_consent</th>\n",
       "      <th>contraband_found</th>\n",
       "      <th>property_seized</th>\n",
       "      <th>action</th>\n",
       "      <th>search_type</th>\n",
       "      <th>search_basis</th>\n",
       "    </tr>\n",
       "  </thead>\n",
       "  <tbody>\n",
       "    <tr>\n",
       "      <th>1</th>\n",
       "      <td>69584</td>\n",
       "      <td>Moving Violation</td>\n",
       "      <td>430</td>\n",
       "      <td>H</td>\n",
       "      <td>M</td>\n",
       "      <td>33</td>\n",
       "      <td>17/10/2017 5:15</td>\n",
       "      <td>Y</td>\n",
       "      <td>True</td>\n",
       "      <td>N</td>\n",
       "      <td>NaN</td>\n",
       "      <td>NaN</td>\n",
       "      <td>NaN</td>\n",
       "      <td>Citation</td>\n",
       "      <td>NaN</td>\n",
       "      <td>NaN</td>\n",
       "    </tr>\n",
       "    <tr>\n",
       "      <th>2</th>\n",
       "      <td>69598</td>\n",
       "      <td>Moving Violation</td>\n",
       "      <td>430</td>\n",
       "      <td>H</td>\n",
       "      <td>M</td>\n",
       "      <td>33</td>\n",
       "      <td>17/10/2017 5:17</td>\n",
       "      <td>Y</td>\n",
       "      <td>True</td>\n",
       "      <td>N</td>\n",
       "      <td>NaN</td>\n",
       "      <td>NaN</td>\n",
       "      <td>NaN</td>\n",
       "      <td>Citation</td>\n",
       "      <td>NaN</td>\n",
       "      <td>NaN</td>\n",
       "    </tr>\n",
       "    <tr>\n",
       "      <th>6</th>\n",
       "      <td>70718</td>\n",
       "      <td>Moving Violation</td>\n",
       "      <td>620</td>\n",
       "      <td>A</td>\n",
       "      <td>F</td>\n",
       "      <td>55</td>\n",
       "      <td>17/10/2017 7:59</td>\n",
       "      <td>Y</td>\n",
       "      <td>True</td>\n",
       "      <td>N</td>\n",
       "      <td>NaN</td>\n",
       "      <td>NaN</td>\n",
       "      <td>NaN</td>\n",
       "      <td>Citation</td>\n",
       "      <td>NaN</td>\n",
       "      <td>NaN</td>\n",
       "    </tr>\n",
       "    <tr>\n",
       "      <th>8</th>\n",
       "      <td>71029</td>\n",
       "      <td>Moving Violation</td>\n",
       "      <td>930</td>\n",
       "      <td>A</td>\n",
       "      <td>M</td>\n",
       "      <td>34</td>\n",
       "      <td>17/10/2017 8:25</td>\n",
       "      <td>Y</td>\n",
       "      <td>True</td>\n",
       "      <td>N</td>\n",
       "      <td>NaN</td>\n",
       "      <td>NaN</td>\n",
       "      <td>NaN</td>\n",
       "      <td>Verbal Warning</td>\n",
       "      <td>NaN</td>\n",
       "      <td>NaN</td>\n",
       "    </tr>\n",
       "    <tr>\n",
       "      <th>10</th>\n",
       "      <td>71134</td>\n",
       "      <td>Moving Violation</td>\n",
       "      <td>930</td>\n",
       "      <td>A</td>\n",
       "      <td>M</td>\n",
       "      <td>34</td>\n",
       "      <td>17/10/2017 8:31</td>\n",
       "      <td>Y</td>\n",
       "      <td>True</td>\n",
       "      <td>N</td>\n",
       "      <td>NaN</td>\n",
       "      <td>NaN</td>\n",
       "      <td>NaN</td>\n",
       "      <td>Verbal Warning</td>\n",
       "      <td>NaN</td>\n",
       "      <td>NaN</td>\n",
       "    </tr>\n",
       "    <tr>\n",
       "      <th>...</th>\n",
       "      <td>...</td>\n",
       "      <td>...</td>\n",
       "      <td>...</td>\n",
       "      <td>...</td>\n",
       "      <td>...</td>\n",
       "      <td>...</td>\n",
       "      <td>...</td>\n",
       "      <td>...</td>\n",
       "      <td>...</td>\n",
       "      <td>...</td>\n",
       "      <td>...</td>\n",
       "      <td>...</td>\n",
       "      <td>...</td>\n",
       "      <td>...</td>\n",
       "      <td>...</td>\n",
       "      <td>...</td>\n",
       "    </tr>\n",
       "    <tr>\n",
       "      <th>34326</th>\n",
       "      <td>5009957</td>\n",
       "      <td>Moving Violation</td>\n",
       "      <td>310</td>\n",
       "      <td>C</td>\n",
       "      <td>M</td>\n",
       "      <td>67</td>\n",
       "      <td>26/06/2018 11:13</td>\n",
       "      <td>N</td>\n",
       "      <td>False</td>\n",
       "      <td>N</td>\n",
       "      <td>NaN</td>\n",
       "      <td>NaN</td>\n",
       "      <td>NaN</td>\n",
       "      <td>Citation</td>\n",
       "      <td>NaN</td>\n",
       "      <td>NaN</td>\n",
       "    </tr>\n",
       "    <tr>\n",
       "      <th>34327</th>\n",
       "      <td>5010486</td>\n",
       "      <td>Moving Violation</td>\n",
       "      <td>310</td>\n",
       "      <td>V</td>\n",
       "      <td>M</td>\n",
       "      <td>44</td>\n",
       "      <td>26/06/2018 11:43</td>\n",
       "      <td>Y</td>\n",
       "      <td>False</td>\n",
       "      <td>N</td>\n",
       "      <td>NaN</td>\n",
       "      <td>NaN</td>\n",
       "      <td>NaN</td>\n",
       "      <td>Citation</td>\n",
       "      <td>NaN</td>\n",
       "      <td>NaN</td>\n",
       "    </tr>\n",
       "    <tr>\n",
       "      <th>34328</th>\n",
       "      <td>5011798</td>\n",
       "      <td>Moving Violation</td>\n",
       "      <td>710</td>\n",
       "      <td>B</td>\n",
       "      <td>F</td>\n",
       "      <td>66</td>\n",
       "      <td>26/06/2018 12:45</td>\n",
       "      <td>N</td>\n",
       "      <td>False</td>\n",
       "      <td>N</td>\n",
       "      <td>NaN</td>\n",
       "      <td>NaN</td>\n",
       "      <td>NaN</td>\n",
       "      <td>Verbal Warning</td>\n",
       "      <td>NaN</td>\n",
       "      <td>NaN</td>\n",
       "    </tr>\n",
       "    <tr>\n",
       "      <th>34329</th>\n",
       "      <td>5011817</td>\n",
       "      <td>Moving Violation</td>\n",
       "      <td>930</td>\n",
       "      <td>W</td>\n",
       "      <td>F</td>\n",
       "      <td>72</td>\n",
       "      <td>26/06/2018 12:46</td>\n",
       "      <td>N</td>\n",
       "      <td>False</td>\n",
       "      <td>N</td>\n",
       "      <td>NaN</td>\n",
       "      <td>NaN</td>\n",
       "      <td>NaN</td>\n",
       "      <td>Citation</td>\n",
       "      <td>NaN</td>\n",
       "      <td>NaN</td>\n",
       "    </tr>\n",
       "    <tr>\n",
       "      <th>34330</th>\n",
       "      <td>5012236</td>\n",
       "      <td>Moving Violation</td>\n",
       "      <td>930</td>\n",
       "      <td>H</td>\n",
       "      <td>M</td>\n",
       "      <td>42</td>\n",
       "      <td>26/06/2018 13:10</td>\n",
       "      <td>N</td>\n",
       "      <td>False</td>\n",
       "      <td>N</td>\n",
       "      <td>NaN</td>\n",
       "      <td>NaN</td>\n",
       "      <td>NaN</td>\n",
       "      <td>Citation</td>\n",
       "      <td>NaN</td>\n",
       "      <td>NaN</td>\n",
       "    </tr>\n",
       "  </tbody>\n",
       "</table>\n",
       "<p>19863 rows × 16 columns</p>\n",
       "</div>"
      ],
      "text/plain": [
       "            ID        stop_cause service_area subject_race subject_sex  \\\n",
       "1        69584  Moving Violation          430            H           M   \n",
       "2        69598  Moving Violation          430            H           M   \n",
       "6        70718  Moving Violation          620            A           F   \n",
       "8        71029  Moving Violation          930            A           M   \n",
       "10       71134  Moving Violation          930            A           M   \n",
       "...        ...               ...          ...          ...         ...   \n",
       "34326  5009957  Moving Violation          310            C           M   \n",
       "34327  5010486  Moving Violation          310            V           M   \n",
       "34328  5011798  Moving Violation          710            B           F   \n",
       "34329  5011817  Moving Violation          930            W           F   \n",
       "34330  5012236  Moving Violation          930            H           M   \n",
       "\n",
       "       subject_age         date_time sd_resident arrested searched  \\\n",
       "1               33   17/10/2017 5:15           Y     True        N   \n",
       "2               33   17/10/2017 5:17           Y     True        N   \n",
       "6               55   17/10/2017 7:59           Y     True        N   \n",
       "8               34   17/10/2017 8:25           Y     True        N   \n",
       "10              34   17/10/2017 8:31           Y     True        N   \n",
       "...            ...               ...         ...      ...      ...   \n",
       "34326           67  26/06/2018 11:13           N    False        N   \n",
       "34327           44  26/06/2018 11:43           Y    False        N   \n",
       "34328           66  26/06/2018 12:45           N    False        N   \n",
       "34329           72  26/06/2018 12:46           N    False        N   \n",
       "34330           42  26/06/2018 13:10           N    False        N   \n",
       "\n",
       "      obtained_consent contraband_found property_seized          action  \\\n",
       "1                  NaN              NaN             NaN        Citation   \n",
       "2                  NaN              NaN             NaN        Citation   \n",
       "6                  NaN              NaN             NaN        Citation   \n",
       "8                  NaN              NaN             NaN  Verbal Warning   \n",
       "10                 NaN              NaN             NaN  Verbal Warning   \n",
       "...                ...              ...             ...             ...   \n",
       "34326              NaN              NaN             NaN        Citation   \n",
       "34327              NaN              NaN             NaN        Citation   \n",
       "34328              NaN              NaN             NaN  Verbal Warning   \n",
       "34329              NaN              NaN             NaN        Citation   \n",
       "34330              NaN              NaN             NaN        Citation   \n",
       "\n",
       "      search_type search_basis  \n",
       "1             NaN          NaN  \n",
       "2             NaN          NaN  \n",
       "6             NaN          NaN  \n",
       "8             NaN          NaN  \n",
       "10            NaN          NaN  \n",
       "...           ...          ...  \n",
       "34326         NaN          NaN  \n",
       "34327         NaN          NaN  \n",
       "34328         NaN          NaN  \n",
       "34329         NaN          NaN  \n",
       "34330         NaN          NaN  \n",
       "\n",
       "[19863 rows x 16 columns]"
      ]
     },
     "execution_count": 22,
     "metadata": {},
     "output_type": "execute_result"
    }
   ],
   "source": [
    "df[df.stop_cause=='Moving Violation']"
   ]
  },
  {
   "cell_type": "code",
   "execution_count": 23,
   "id": "e4fbf422",
   "metadata": {},
   "outputs": [
    {
     "data": {
      "text/plain": [
       "subject_sex\n",
       "M    13425\n",
       "F     6425\n",
       "U       13\n",
       "Name: count, dtype: int64"
      ]
     },
     "execution_count": 23,
     "metadata": {},
     "output_type": "execute_result"
    }
   ],
   "source": [
    "#How  many male and females are stoped due to Moving Violation\n",
    "df[df.stop_cause=='Moving Violation'].subject_sex.value_counts()"
   ]
  },
  {
   "cell_type": "code",
   "execution_count": 24,
   "id": "9ca833c0",
   "metadata": {},
   "outputs": [
    {
     "data": {
      "text/html": [
       "<div>\n",
       "<style scoped>\n",
       "    .dataframe tbody tr th:only-of-type {\n",
       "        vertical-align: middle;\n",
       "    }\n",
       "\n",
       "    .dataframe tbody tr th {\n",
       "        vertical-align: top;\n",
       "    }\n",
       "\n",
       "    .dataframe thead th {\n",
       "        text-align: right;\n",
       "    }\n",
       "</style>\n",
       "<table border=\"1\" class=\"dataframe\">\n",
       "  <thead>\n",
       "    <tr style=\"text-align: right;\">\n",
       "      <th></th>\n",
       "      <th>ID</th>\n",
       "      <th>stop_cause</th>\n",
       "      <th>service_area</th>\n",
       "      <th>subject_race</th>\n",
       "      <th>subject_sex</th>\n",
       "      <th>subject_age</th>\n",
       "      <th>date_time</th>\n",
       "      <th>sd_resident</th>\n",
       "      <th>arrested</th>\n",
       "      <th>searched</th>\n",
       "      <th>obtained_consent</th>\n",
       "      <th>contraband_found</th>\n",
       "      <th>property_seized</th>\n",
       "      <th>action</th>\n",
       "      <th>search_type</th>\n",
       "      <th>search_basis</th>\n",
       "    </tr>\n",
       "  </thead>\n",
       "  <tbody>\n",
       "    <tr>\n",
       "      <th>0</th>\n",
       "      <td>69583</td>\n",
       "      <td>Equipment Violation</td>\n",
       "      <td>110</td>\n",
       "      <td>H</td>\n",
       "      <td>M</td>\n",
       "      <td>50</td>\n",
       "      <td>17/10/2017 5:14</td>\n",
       "      <td>Y</td>\n",
       "      <td>True</td>\n",
       "      <td>N</td>\n",
       "      <td>NaN</td>\n",
       "      <td>NaN</td>\n",
       "      <td>NaN</td>\n",
       "      <td>Verbal Warning</td>\n",
       "      <td>NaN</td>\n",
       "      <td>NaN</td>\n",
       "    </tr>\n",
       "    <tr>\n",
       "      <th>6</th>\n",
       "      <td>70718</td>\n",
       "      <td>Moving Violation</td>\n",
       "      <td>620</td>\n",
       "      <td>A</td>\n",
       "      <td>F</td>\n",
       "      <td>55</td>\n",
       "      <td>17/10/2017 7:59</td>\n",
       "      <td>Y</td>\n",
       "      <td>True</td>\n",
       "      <td>N</td>\n",
       "      <td>NaN</td>\n",
       "      <td>NaN</td>\n",
       "      <td>NaN</td>\n",
       "      <td>Citation</td>\n",
       "      <td>NaN</td>\n",
       "      <td>NaN</td>\n",
       "    </tr>\n",
       "    <tr>\n",
       "      <th>11</th>\n",
       "      <td>71253</td>\n",
       "      <td>Moving Violation</td>\n",
       "      <td>720</td>\n",
       "      <td>H</td>\n",
       "      <td>F</td>\n",
       "      <td>57</td>\n",
       "      <td>17/10/2017 8:39</td>\n",
       "      <td>N</td>\n",
       "      <td>True</td>\n",
       "      <td>N</td>\n",
       "      <td>NaN</td>\n",
       "      <td>NaN</td>\n",
       "      <td>NaN</td>\n",
       "      <td>Citation</td>\n",
       "      <td>NaN</td>\n",
       "      <td>NaN</td>\n",
       "    </tr>\n",
       "    <tr>\n",
       "      <th>16</th>\n",
       "      <td>71531</td>\n",
       "      <td>Code Violation</td>\n",
       "      <td>610</td>\n",
       "      <td>O</td>\n",
       "      <td>M</td>\n",
       "      <td>52</td>\n",
       "      <td>17/10/2017 9:04</td>\n",
       "      <td>N</td>\n",
       "      <td>True</td>\n",
       "      <td>N</td>\n",
       "      <td>NaN</td>\n",
       "      <td>NaN</td>\n",
       "      <td>NaN</td>\n",
       "      <td>Citation</td>\n",
       "      <td>NaN</td>\n",
       "      <td>NaN</td>\n",
       "    </tr>\n",
       "    <tr>\n",
       "      <th>17</th>\n",
       "      <td>71594</td>\n",
       "      <td>Moving Violation</td>\n",
       "      <td>110</td>\n",
       "      <td>W</td>\n",
       "      <td>M</td>\n",
       "      <td>60</td>\n",
       "      <td>17/10/2017 9:07</td>\n",
       "      <td>Y</td>\n",
       "      <td>True</td>\n",
       "      <td>N</td>\n",
       "      <td>NaN</td>\n",
       "      <td>NaN</td>\n",
       "      <td>NaN</td>\n",
       "      <td>Citation</td>\n",
       "      <td>NaN</td>\n",
       "      <td>NaN</td>\n",
       "    </tr>\n",
       "  </tbody>\n",
       "</table>\n",
       "</div>"
      ],
      "text/plain": [
       "       ID           stop_cause service_area subject_race subject_sex  \\\n",
       "0   69583  Equipment Violation          110            H           M   \n",
       "6   70718     Moving Violation          620            A           F   \n",
       "11  71253     Moving Violation          720            H           F   \n",
       "16  71531       Code Violation          610            O           M   \n",
       "17  71594     Moving Violation          110            W           M   \n",
       "\n",
       "    subject_age        date_time sd_resident arrested searched  \\\n",
       "0            50  17/10/2017 5:14           Y     True        N   \n",
       "6            55  17/10/2017 7:59           Y     True        N   \n",
       "11           57  17/10/2017 8:39           N     True        N   \n",
       "16           52  17/10/2017 9:04           N     True        N   \n",
       "17           60  17/10/2017 9:07           Y     True        N   \n",
       "\n",
       "   obtained_consent contraband_found property_seized          action  \\\n",
       "0               NaN              NaN             NaN  Verbal Warning   \n",
       "6               NaN              NaN             NaN        Citation   \n",
       "11              NaN              NaN             NaN        Citation   \n",
       "16              NaN              NaN             NaN        Citation   \n",
       "17              NaN              NaN             NaN        Citation   \n",
       "\n",
       "   search_type search_basis  \n",
       "0          NaN          NaN  \n",
       "6          NaN          NaN  \n",
       "11         NaN          NaN  \n",
       "16         NaN          NaN  \n",
       "17         NaN          NaN  "
      ]
     },
     "execution_count": 24,
     "metadata": {},
     "output_type": "execute_result"
    }
   ],
   "source": [
    "#Filter the dataaet based on  poeples stopped whose ages are greater than 40 \n",
    "df[df.subject_age>40].head()\n"
   ]
  },
  {
   "cell_type": "code",
   "execution_count": 25,
   "id": "3912dabb",
   "metadata": {},
   "outputs": [
    {
     "data": {
      "text/plain": [
       "stop_cause\n",
       "Moving Violation       6425\n",
       "Equipment Violation    3323\n",
       "Code Violation          158\n",
       "Radio Call               53\n",
       "Suspect Info             29\n",
       "PK/Informant              2\n",
       "Name: count, dtype: int64"
      ]
     },
     "execution_count": 25,
     "metadata": {},
     "output_type": "execute_result"
    }
   ],
   "source": [
    "#Let’s see the reasons for stopping women as a percentage\n",
    "df[df.subject_sex=='F'].stop_cause.value_counts()"
   ]
  },
  {
   "cell_type": "code",
   "execution_count": 26,
   "id": "f4aa410f",
   "metadata": {},
   "outputs": [
    {
     "data": {
      "text/plain": [
       "subject_sex  stop_cause         \n",
       "F            Moving Violation        6425\n",
       "             Equipment Violation     3323\n",
       "             Code Violation           158\n",
       "             Radio Call                53\n",
       "             Suspect Info              29\n",
       "             PK/Informant               2\n",
       "M            Moving Violation       13425\n",
       "             Equipment Violation     9598\n",
       "             Code Violation           751\n",
       "             Radio Call               272\n",
       "             Suspect Info             221\n",
       "             PK/Informant              18\n",
       "U            Equipment Violation       14\n",
       "             Moving Violation          13\n",
       "             Radio Call                10\n",
       "             Code Violation             7\n",
       "             Suspect Info               4\n",
       "             PK/Informant               3\n",
       "Name: count, dtype: int64"
      ]
     },
     "execution_count": 26,
     "metadata": {},
     "output_type": "execute_result"
    }
   ],
   "source": [
    "df.groupby('subject_sex').stop_cause.value_counts()"
   ]
  },
  {
   "cell_type": "code",
   "execution_count": 27,
   "id": "dc061908",
   "metadata": {},
   "outputs": [
    {
     "data": {
      "text/html": [
       "<div>\n",
       "<style scoped>\n",
       "    .dataframe tbody tr th:only-of-type {\n",
       "        vertical-align: middle;\n",
       "    }\n",
       "\n",
       "    .dataframe tbody tr th {\n",
       "        vertical-align: top;\n",
       "    }\n",
       "\n",
       "    .dataframe thead th {\n",
       "        text-align: right;\n",
       "    }\n",
       "</style>\n",
       "<table border=\"1\" class=\"dataframe\">\n",
       "  <thead>\n",
       "    <tr style=\"text-align: right;\">\n",
       "      <th>stop_cause</th>\n",
       "      <th>Code Violation</th>\n",
       "      <th>Equipment Violation</th>\n",
       "      <th>Moving Violation</th>\n",
       "      <th>PK/Informant</th>\n",
       "      <th>Radio Call</th>\n",
       "      <th>Suspect Info</th>\n",
       "    </tr>\n",
       "    <tr>\n",
       "      <th>subject_sex</th>\n",
       "      <th></th>\n",
       "      <th></th>\n",
       "      <th></th>\n",
       "      <th></th>\n",
       "      <th></th>\n",
       "      <th></th>\n",
       "    </tr>\n",
       "  </thead>\n",
       "  <tbody>\n",
       "    <tr>\n",
       "      <th>F</th>\n",
       "      <td>158</td>\n",
       "      <td>3323</td>\n",
       "      <td>6425</td>\n",
       "      <td>2</td>\n",
       "      <td>53</td>\n",
       "      <td>29</td>\n",
       "    </tr>\n",
       "    <tr>\n",
       "      <th>M</th>\n",
       "      <td>751</td>\n",
       "      <td>9598</td>\n",
       "      <td>13425</td>\n",
       "      <td>18</td>\n",
       "      <td>272</td>\n",
       "      <td>221</td>\n",
       "    </tr>\n",
       "    <tr>\n",
       "      <th>U</th>\n",
       "      <td>7</td>\n",
       "      <td>14</td>\n",
       "      <td>13</td>\n",
       "      <td>3</td>\n",
       "      <td>10</td>\n",
       "      <td>4</td>\n",
       "    </tr>\n",
       "  </tbody>\n",
       "</table>\n",
       "</div>"
      ],
      "text/plain": [
       "stop_cause   Code Violation  Equipment Violation  Moving Violation  \\\n",
       "subject_sex                                                          \n",
       "F                       158                 3323              6425   \n",
       "M                       751                 9598             13425   \n",
       "U                         7                   14                13   \n",
       "\n",
       "stop_cause   PK/Informant  Radio Call  Suspect Info  \n",
       "subject_sex                                          \n",
       "F                       2          53            29  \n",
       "M                      18         272           221  \n",
       "U                       3          10             4  "
      ]
     },
     "execution_count": 27,
     "metadata": {},
     "output_type": "execute_result"
    }
   ],
   "source": [
    "#convert this data into a tabular form.\n",
    "df.groupby('subject_sex').stop_cause.value_counts().unstack()"
   ]
  },
  {
   "cell_type": "code",
   "execution_count": 28,
   "id": "2484900f",
   "metadata": {},
   "outputs": [
    {
     "data": {
      "text/plain": [
       "arrested\n",
       "False    33098\n",
       "True      1231\n",
       "Name: count, dtype: int64"
      ]
     },
     "execution_count": 28,
     "metadata": {},
     "output_type": "execute_result"
    }
   ],
   "source": [
    "#let’s see the percentage of the number of arrests.\n",
    "df.arrested.value_counts()"
   ]
  },
  {
   "cell_type": "code",
   "execution_count": 29,
   "id": "050bceff",
   "metadata": {},
   "outputs": [
    {
     "data": {
      "text/plain": [
       "subject_race  subject_sex  stop_cause         \n",
       "A             F            Moving Violation        543\n",
       "                           Equipment Violation     177\n",
       "                           Code Violation           10\n",
       "                           Radio Call                2\n",
       "                           Suspect Info              1\n",
       "              M            Moving Violation        777\n",
       "                           Equipment Violation     489\n",
       "                           Code Violation           25\n",
       "                           Radio Call                6\n",
       "                           Suspect Info              5\n",
       "                           PK/Informant              1\n",
       "              U            Equipment Violation       5\n",
       "                           Moving Violation          3\n",
       "                           Radio Call                1\n",
       "                           Suspect Info              1\n",
       "                           PK/Informant              1\n",
       "B             F            Equipment Violation     626\n",
       "                           Moving Violation        622\n",
       "                           Code Violation           31\n",
       "                           Radio Call               13\n",
       "                           Suspect Info              5\n",
       "              M            Equipment Violation    2084\n",
       "                           Moving Violation       1778\n",
       "                           Code Violation          168\n",
       "                           Radio Call               56\n",
       "                           Suspect Info             52\n",
       "                           PK/Informant              5\n",
       "              U            Moving Violation          1\n",
       "C             F            Moving Violation         67\n",
       "                           Equipment Violation      19\n",
       "              M            Moving Violation        126\n",
       "                           Equipment Violation      24\n",
       "                           Radio Call                1\n",
       "                           Code Violation            1\n",
       "D             F            Equipment Violation       3\n",
       "                           Moving Violation          3\n",
       "              M            Moving Violation         13\n",
       "                           Equipment Violation       5\n",
       "F             F            Moving Violation        130\n",
       "                           Equipment Violation      38\n",
       "Name: count, dtype: int64"
      ]
     },
     "execution_count": 29,
     "metadata": {},
     "output_type": "execute_result"
    }
   ],
   "source": [
    "#Let’s see the percentages/number  of arrests by race and gender.\n",
    "\n",
    "\n",
    "df.groupby(['subject_race','subject_sex']).stop_cause.value_counts().head(40)"
   ]
  },
  {
   "cell_type": "code",
   "execution_count": 30,
   "id": "7acfd24d",
   "metadata": {},
   "outputs": [],
   "source": [
    "#Convert arrested to boolean\n",
    "df[\"arrest_made\"]=df.arrested.astype(bool)"
   ]
  },
  {
   "cell_type": "code",
   "execution_count": 31,
   "id": "0bb30df0",
   "metadata": {},
   "outputs": [
    {
     "data": {
      "text/plain": [
       "arrest_made\n",
       "False    33098\n",
       "True      1235\n",
       "Name: count, dtype: int64"
      ]
     },
     "execution_count": 31,
     "metadata": {},
     "output_type": "execute_result"
    }
   ],
   "source": [
    "df.arrest_made.value_counts()"
   ]
  },
  {
   "cell_type": "code",
   "execution_count": 32,
   "id": "c347b07a",
   "metadata": {
    "scrolled": true
   },
   "outputs": [
    {
     "data": {
      "text/plain": [
       "0.03597122302158273"
      ]
     },
     "execution_count": 32,
     "metadata": {},
     "output_type": "execute_result"
    }
   ],
   "source": [
    "df.arrest_made.mean()"
   ]
  },
  {
   "cell_type": "code",
   "execution_count": 33,
   "id": "db22acf6",
   "metadata": {},
   "outputs": [
    {
     "ename": "KeyError",
     "evalue": "'DateTime'",
     "output_type": "error",
     "traceback": [
      "\u001b[1;31m---------------------------------------------------------------------------\u001b[0m",
      "\u001b[1;31mKeyError\u001b[0m                                  Traceback (most recent call last)",
      "File \u001b[1;32m~\\AppData\\Local\\Programs\\Python\\Python312\\Lib\\site-packages\\pandas\\core\\indexes\\base.py:3790\u001b[0m, in \u001b[0;36mIndex.get_loc\u001b[1;34m(self, key)\u001b[0m\n\u001b[0;32m   3789\u001b[0m \u001b[38;5;28;01mtry\u001b[39;00m:\n\u001b[1;32m-> 3790\u001b[0m     \u001b[38;5;28;01mreturn\u001b[39;00m \u001b[38;5;28;43mself\u001b[39;49m\u001b[38;5;241;43m.\u001b[39;49m\u001b[43m_engine\u001b[49m\u001b[38;5;241;43m.\u001b[39;49m\u001b[43mget_loc\u001b[49m\u001b[43m(\u001b[49m\u001b[43mcasted_key\u001b[49m\u001b[43m)\u001b[49m\n\u001b[0;32m   3791\u001b[0m \u001b[38;5;28;01mexcept\u001b[39;00m \u001b[38;5;167;01mKeyError\u001b[39;00m \u001b[38;5;28;01mas\u001b[39;00m err:\n",
      "File \u001b[1;32mindex.pyx:152\u001b[0m, in \u001b[0;36mpandas._libs.index.IndexEngine.get_loc\u001b[1;34m()\u001b[0m\n",
      "File \u001b[1;32mindex.pyx:181\u001b[0m, in \u001b[0;36mpandas._libs.index.IndexEngine.get_loc\u001b[1;34m()\u001b[0m\n",
      "File \u001b[1;32mpandas\\_libs\\hashtable_class_helper.pxi:7080\u001b[0m, in \u001b[0;36mpandas._libs.hashtable.PyObjectHashTable.get_item\u001b[1;34m()\u001b[0m\n",
      "File \u001b[1;32mpandas\\_libs\\hashtable_class_helper.pxi:7088\u001b[0m, in \u001b[0;36mpandas._libs.hashtable.PyObjectHashTable.get_item\u001b[1;34m()\u001b[0m\n",
      "\u001b[1;31mKeyError\u001b[0m: 'DateTime'",
      "\nThe above exception was the direct cause of the following exception:\n",
      "\u001b[1;31mKeyError\u001b[0m                                  Traceback (most recent call last)",
      "Cell \u001b[1;32mIn[33], line 2\u001b[0m\n\u001b[0;32m      1\u001b[0m \u001b[38;5;66;03m#convert the date time to the  date time format\u001b[39;00m\n\u001b[1;32m----> 2\u001b[0m df[\u001b[38;5;124m'\u001b[39m\u001b[38;5;124mDatetimeFormat\u001b[39m\u001b[38;5;124m'\u001b[39m] \u001b[38;5;241m=\u001b[39m pd\u001b[38;5;241m.\u001b[39mto_datetime(\u001b[43mdf\u001b[49m\u001b[43m[\u001b[49m\u001b[38;5;124;43m'\u001b[39;49m\u001b[38;5;124;43mDateTime\u001b[39;49m\u001b[38;5;124;43m'\u001b[39;49m\u001b[43m]\u001b[49m)\n",
      "File \u001b[1;32m~\\AppData\\Local\\Programs\\Python\\Python312\\Lib\\site-packages\\pandas\\core\\frame.py:3893\u001b[0m, in \u001b[0;36mDataFrame.__getitem__\u001b[1;34m(self, key)\u001b[0m\n\u001b[0;32m   3891\u001b[0m \u001b[38;5;28;01mif\u001b[39;00m \u001b[38;5;28mself\u001b[39m\u001b[38;5;241m.\u001b[39mcolumns\u001b[38;5;241m.\u001b[39mnlevels \u001b[38;5;241m>\u001b[39m \u001b[38;5;241m1\u001b[39m:\n\u001b[0;32m   3892\u001b[0m     \u001b[38;5;28;01mreturn\u001b[39;00m \u001b[38;5;28mself\u001b[39m\u001b[38;5;241m.\u001b[39m_getitem_multilevel(key)\n\u001b[1;32m-> 3893\u001b[0m indexer \u001b[38;5;241m=\u001b[39m \u001b[38;5;28;43mself\u001b[39;49m\u001b[38;5;241;43m.\u001b[39;49m\u001b[43mcolumns\u001b[49m\u001b[38;5;241;43m.\u001b[39;49m\u001b[43mget_loc\u001b[49m\u001b[43m(\u001b[49m\u001b[43mkey\u001b[49m\u001b[43m)\u001b[49m\n\u001b[0;32m   3894\u001b[0m \u001b[38;5;28;01mif\u001b[39;00m is_integer(indexer):\n\u001b[0;32m   3895\u001b[0m     indexer \u001b[38;5;241m=\u001b[39m [indexer]\n",
      "File \u001b[1;32m~\\AppData\\Local\\Programs\\Python\\Python312\\Lib\\site-packages\\pandas\\core\\indexes\\base.py:3797\u001b[0m, in \u001b[0;36mIndex.get_loc\u001b[1;34m(self, key)\u001b[0m\n\u001b[0;32m   3792\u001b[0m     \u001b[38;5;28;01mif\u001b[39;00m \u001b[38;5;28misinstance\u001b[39m(casted_key, \u001b[38;5;28mslice\u001b[39m) \u001b[38;5;129;01mor\u001b[39;00m (\n\u001b[0;32m   3793\u001b[0m         \u001b[38;5;28misinstance\u001b[39m(casted_key, abc\u001b[38;5;241m.\u001b[39mIterable)\n\u001b[0;32m   3794\u001b[0m         \u001b[38;5;129;01mand\u001b[39;00m \u001b[38;5;28many\u001b[39m(\u001b[38;5;28misinstance\u001b[39m(x, \u001b[38;5;28mslice\u001b[39m) \u001b[38;5;28;01mfor\u001b[39;00m x \u001b[38;5;129;01min\u001b[39;00m casted_key)\n\u001b[0;32m   3795\u001b[0m     ):\n\u001b[0;32m   3796\u001b[0m         \u001b[38;5;28;01mraise\u001b[39;00m InvalidIndexError(key)\n\u001b[1;32m-> 3797\u001b[0m     \u001b[38;5;28;01mraise\u001b[39;00m \u001b[38;5;167;01mKeyError\u001b[39;00m(key) \u001b[38;5;28;01mfrom\u001b[39;00m \u001b[38;5;21;01merr\u001b[39;00m\n\u001b[0;32m   3798\u001b[0m \u001b[38;5;28;01mexcept\u001b[39;00m \u001b[38;5;167;01mTypeError\u001b[39;00m:\n\u001b[0;32m   3799\u001b[0m     \u001b[38;5;66;03m# If we have a listlike key, _check_indexing_error will raise\u001b[39;00m\n\u001b[0;32m   3800\u001b[0m     \u001b[38;5;66;03m#  InvalidIndexError. Otherwise we fall through and re-raise\u001b[39;00m\n\u001b[0;32m   3801\u001b[0m     \u001b[38;5;66;03m#  the TypeError.\u001b[39;00m\n\u001b[0;32m   3802\u001b[0m     \u001b[38;5;28mself\u001b[39m\u001b[38;5;241m.\u001b[39m_check_indexing_error(key)\n",
      "\u001b[1;31mKeyError\u001b[0m: 'DateTime'"
     ]
    }
   ],
   "source": [
    "#convert the date time to the  date time format\n",
    "df['DatetimeFormat'] = pd.to_datetime(df['DateTime'])"
   ]
  },
  {
   "cell_type": "code",
   "execution_count": null,
   "id": "b0349ff5",
   "metadata": {},
   "outputs": [],
   "source": [
    "%matplotlib inline"
   ]
  },
  {
   "cell_type": "code",
   "execution_count": null,
   "id": "9fcb31f6",
   "metadata": {},
   "outputs": [],
   "source": [
    "df.groupby(df.DatetimeFormat.dt.hour).arrest_made.mean().plot()"
   ]
  },
  {
   "cell_type": "code",
   "execution_count": null,
   "id": "891d20d8",
   "metadata": {},
   "outputs": [],
   "source": [
    "#see the stop hours\n",
    "df.DatetimeFormat.dt.hour.value_counts().head()"
   ]
  },
  {
   "cell_type": "code",
   "execution_count": null,
   "id": "5b23adf9",
   "metadata": {},
   "outputs": [],
   "source": [
    "#sort and see the time the time when there is high  stopping time\n",
    "df.DatetimeFormat.dt.hour.value_counts().sort_index().plot()"
   ]
  },
  {
   "cell_type": "code",
   "execution_count": null,
   "id": "a1bb2415",
   "metadata": {},
   "outputs": [],
   "source": [
    "admin=pd.read_csv('admin.csv')\n",
    "school=pd.read_csv('school.csv')"
   ]
  },
  {
   "cell_type": "code",
   "execution_count": null,
   "id": "23940039",
   "metadata": {},
   "outputs": [],
   "source": [
    "admin.head()"
   ]
  },
  {
   "cell_type": "code",
   "execution_count": null,
   "id": "1d7d10e9",
   "metadata": {},
   "outputs": [],
   "source": [
    "school.head()"
   ]
  },
  {
   "cell_type": "code",
   "execution_count": null,
   "id": "ca706ea1",
   "metadata": {},
   "outputs": [],
   "source": [
    "#If you want to merge DataFrames, use the pd.merge() method\n",
    "#Merge the two dataset based on  some condition eg. school\n",
    "merged=pd.merge(admin, school, on='School', how='inner')"
   ]
  },
  {
   "cell_type": "code",
   "execution_count": null,
   "id": "c370eddc",
   "metadata": {},
   "outputs": [],
   "source": [
    "merged.head()"
   ]
  },
  {
   "cell_type": "code",
   "execution_count": null,
   "id": "6645b112",
   "metadata": {},
   "outputs": [],
   "source": [
    "\n",
    "#If you want to merge DataFrames, use the pd.concat() method\n",
    "#Merge the two dataset based on  some condition eg. school\n",
    "cancatenateddata=pd.concat((admin, school), axis=1)"
   ]
  },
  {
   "cell_type": "code",
   "execution_count": null,
   "id": "1307b36f",
   "metadata": {},
   "outputs": [],
   "source": [
    "cancatenateddata.head()"
   ]
  },
  {
   "cell_type": "code",
   "execution_count": null,
   "id": "0da5f0ef",
   "metadata": {},
   "outputs": [],
   "source": [
    "#add new column  called salary to the admin \n",
    "admin['university']='AAU'\n"
   ]
  },
  {
   "cell_type": "code",
   "execution_count": null,
   "id": "a4c5f8df",
   "metadata": {},
   "outputs": [],
   "source": [
    "admin"
   ]
  },
  {
   "cell_type": "code",
   "execution_count": null,
   "id": "6a610152",
   "metadata": {},
   "outputs": [],
   "source": [
    "newadmin=admin"
   ]
  },
  {
   "cell_type": "code",
   "execution_count": null,
   "id": "e12a33e1",
   "metadata": {},
   "outputs": [],
   "source": [
    "#drop column\n",
    "# use drop\n",
    "newadmin.drop(columns=['Inistitute'])"
   ]
  },
  {
   "cell_type": "code",
   "execution_count": null,
   "id": "f503cb58",
   "metadata": {},
   "outputs": [],
   "source": [
    "#Or use the following\n",
    "newadmin.drop('university',axis=1)"
   ]
  },
  {
   "cell_type": "code",
   "execution_count": null,
   "id": "def18917",
   "metadata": {},
   "outputs": [],
   "source": []
  },
  {
   "cell_type": "code",
   "execution_count": null,
   "id": "b5d2fada",
   "metadata": {},
   "outputs": [],
   "source": [
    "#Display unique value of specific column\n",
    "school.Inistitute.unique()"
   ]
  },
  {
   "cell_type": "code",
   "execution_count": null,
   "id": "3700b573",
   "metadata": {},
   "outputs": [],
   "source": [
    "#Or you can use the following to count the see the  values \n",
    "school['Inistitute'].unique()"
   ]
  },
  {
   "cell_type": "code",
   "execution_count": null,
   "id": "9bfa7a79",
   "metadata": {},
   "outputs": [],
   "source": [
    "#fill Na\n",
    "school.head()"
   ]
  },
  {
   "cell_type": "code",
   "execution_count": null,
   "id": "c6ab7fbd",
   "metadata": {},
   "outputs": [],
   "source": [
    "#fill the NaN of a particular column with some value\n",
    "school.Inistitute.fillna(\"law school\",inplace=True)"
   ]
  },
  {
   "cell_type": "code",
   "execution_count": null,
   "id": "c0b5b6b4",
   "metadata": {},
   "outputs": [],
   "source": [
    "school.head()"
   ]
  },
  {
   "cell_type": "code",
   "execution_count": null,
   "id": "592d08d0",
   "metadata": {},
   "outputs": [],
   "source": [
    "#You can save Pandas dataframes as CSV files to using the method to_csv().\n",
    "school.to_csv('cleaneddata.csv')"
   ]
  },
  {
   "cell_type": "code",
   "execution_count": null,
   "id": "9777057d",
   "metadata": {},
   "outputs": [],
   "source": [
    "df.columns"
   ]
  },
  {
   "cell_type": "code",
   "execution_count": null,
   "id": "9097d623-5c4a-41ec-b5bd-0f4ef7b05046",
   "metadata": {},
   "outputs": [],
   "source": [
    "df[['stop_id','stop_cause','service_area','subject_race','subject_sex']]"
   ]
  },
  {
   "cell_type": "code",
   "execution_count": null,
   "id": "8e24a3b2-4c5c-4aa0-a823-934ca3d6fb97",
   "metadata": {},
   "outputs": [],
   "source": [
    "df.iloc[0]"
   ]
  },
  {
   "cell_type": "code",
   "execution_count": null,
   "id": "7139e3a6-a14f-4b25-a0b6-4b31a821e47b",
   "metadata": {},
   "outputs": [],
   "source": [
    "df.groupby('subject_sex').stop_cause.value_counts().unstack()"
   ]
  },
  {
   "cell_type": "code",
   "execution_count": null,
   "id": "d1f2fdcd-43a6-40ab-abec-68abf62c3314",
   "metadata": {},
   "outputs": [],
   "source": []
  }
 ],
 "metadata": {
  "kernelspec": {
   "display_name": "Python 3 (ipykernel)",
   "language": "python",
   "name": "python3"
  },
  "language_info": {
   "codemirror_mode": {
    "name": "ipython",
    "version": 3
   },
   "file_extension": ".py",
   "mimetype": "text/x-python",
   "name": "python",
   "nbconvert_exporter": "python",
   "pygments_lexer": "ipython3",
   "version": "3.12.0"
  }
 },
 "nbformat": 4,
 "nbformat_minor": 5
}
